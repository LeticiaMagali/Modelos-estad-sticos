{
  "nbformat": 4,
  "nbformat_minor": 0,
  "metadata": {
    "colab": {
      "provenance": []
    },
    "kernelspec": {
      "name": "python3",
      "display_name": "Python 3"
    },
    "language_info": {
      "name": "python"
    }
  },
  "cells": [
    {
      "cell_type": "markdown",
      "source": [
        "<div>\n",
        "\n",
        "<img src=\"https://www.bunam.unam.mx/extranjero/img/logoUNAM.svg\" alt=\"Drawing\" style=\"width: 750px;\"/>\n",
        "\n",
        "</div>"
      ],
      "metadata": {
        "id": "-q88JMlYxLq_"
      }
    },
    {
      "cell_type": "code",
      "source": [],
      "metadata": {
        "id": "BJ-7QNOqFSvu"
      },
      "execution_count": null,
      "outputs": []
    },
    {
      "cell_type": "markdown",
      "source": [
        "<div style=\"text-align: center\"><font size=5><b>\n",
        "Facultad de Estudios Superiores Acatlán\n",
        "</b></font></div>\n",
        "<div style=\"text-align: center\"><font size=5><b>\n",
        "Diplomado Técnicas Estadísticas y Minería de datos\n",
        "</b></font></div>\n",
        "<div style=\"text-align: center\"><font size=5><b>\n",
        "EQUIPO 4\n",
        "</b></font></div>\n",
        "<div style=\"text-align: center\"><font size=4><b>\n",
        "Profesora:</b> <span style=\"color:blue\">Act. Claudia Cristina Reyes Montes de Oca</span>\n",
        "</font></div>\n",
        "<div style=\"text-align: center\"><font size=4><b>\n",
        "Alumnos:<font size=3></b>\n",
        "<div style=\"color:blue\">Leticia Magali Cruz Ramírez</span>\n",
        "</div>\n",
        "<div style=\"color:blue\">Diana Laura García Iniesta</span>\n",
        "</div>\n",
        "<div style=\"color:blue\">Angel Fernando Ortega Vergara</span>\n",
        "</div>\n",
        "<div style=\"color:blue\">Alberto Pérez Contreras</span>\n",
        "</div>\n",
        "<div style=\"color:blue\">Miguel Alfonso Gómez Cordero</span>\n",
        "</font></div>\n",
        "<div style=\"text-align: center\"><font size=2><b>\n",
        "<font size=4></div>\n",
        "Fecha:</b> <span style=\"color:blue\">31 de agosto de 2024</span>\n",
        "</font></div>\n"
      ],
      "metadata": {
        "id": "rjKgLNmexOGt"
      }
    },
    {
      "cell_type": "markdown",
      "source": [
        "---"
      ],
      "metadata": {
        "id": "G7FHG6iAEzce"
      }
    },
    {
      "cell_type": "markdown",
      "source": [
        "### TAREA 1: PROBABILIDAD CLASICA\n",
        "\n",
        "## Consideramos los siguientes eventos:\n",
        "\n",
        "A: todos los resultados son águila\n",
        "\n",
        "S: todos los resultados son soles.\n",
        "\n",
        "E: por lo menos un resultado es sol."
      ],
      "metadata": {
        "id": "DZWh6CtBzIRI"
      }
    },
    {
      "cell_type": "markdown",
      "source": [
        "---"
      ],
      "metadata": {
        "id": "gNj8wbKUEwVz"
      }
    },
    {
      "cell_type": "code",
      "execution_count": null,
      "metadata": {
        "id": "USPfsG0yhgtB"
      },
      "outputs": [],
      "source": [
        "# Importamos las librerías a utilizar\n",
        "import itertools\n",
        "from itertools import product\n",
        "from fractions import Fraction"
      ]
    },
    {
      "cell_type": "code",
      "source": [
        "# Función para el cálculo de la probabilidad de un evento\n",
        "def p(E,Omega):\n",
        "  p =Fraction(len(E),len(Omega))\n",
        "  return p"
      ],
      "metadata": {
        "id": "PA9Au0k1OX65"
      },
      "execution_count": null,
      "outputs": []
    },
    {
      "cell_type": "code",
      "source": [
        "# Todos los posibles resultados de lanzar una moneda tres veces\n",
        "espacio_muestral = set(product({'A','S'}, repeat=3))\n",
        "espacio_muestral_E = [''.join(resultado) for resultado in espacio_muestral]\n",
        "\n",
        "print(\"El espacio muestra es: \",espacio_muestral)\n",
        "print(\"Cardinalidad del espacio muestral: \",len(espacio_muestral),'\\n')"
      ],
      "metadata": {
        "colab": {
          "base_uri": "https://localhost:8080/"
        },
        "id": "ptaL6Y33EdBT",
        "outputId": "3146de80-37df-433f-a35d-afaa5d2a8342"
      },
      "execution_count": null,
      "outputs": [
        {
          "output_type": "stream",
          "name": "stdout",
          "text": [
            "El espacio muestra es:  {('A', 'A', 'S'), ('S', 'S', 'S'), ('A', 'A', 'A'), ('S', 'S', 'A'), ('A', 'S', 'S'), ('S', 'A', 'S'), ('A', 'S', 'A'), ('S', 'A', 'A')}\n",
            "Cardinalidad del espacio muestral:  8 \n",
            "\n"
          ]
        }
      ]
    },
    {
      "cell_type": "markdown",
      "source": [
        "## Definimos los eventos\n",
        "\n",
        "### A: todos los resultados son águila\n"
      ],
      "metadata": {
        "id": "6vKcUKmGHDz2"
      }
    },
    {
      "cell_type": "code",
      "source": [
        "# A: todos los resultados son águila\n",
        "# Se crea el evento A\n",
        "A_1 = {resultado for resultado in espacio_muestral if resultado[0]==\"A\" }\n",
        "A_2 = {resultado for resultado in espacio_muestral if resultado[1]==\"A\" }\n",
        "A_3 = {resultado for resultado in espacio_muestral if resultado[2]==\"A\" }\n",
        "\n",
        "# Se crea la interseccion de conjuntos\n",
        "A = A_1.intersection(A_2.intersection(A_3))\n",
        "print('Evento que cumple con lo solicitado: ',A)\n",
        "\n",
        "# Se calcula la probabilidad del evento\n",
        "P_A = len(A)/len(espacio_muestral)\n",
        "# print('La probabilidad de ocurrencia del evento A es: ',P_A)\n",
        "print('La probabilidad de ocurrencia del evento A es: ',p(A,espacio_muestral))"
      ],
      "metadata": {
        "colab": {
          "base_uri": "https://localhost:8080/"
        },
        "id": "6AIWk9DvEeHj",
        "outputId": "9c4ab861-4c7d-4881-d948-2c0c43e52f30"
      },
      "execution_count": null,
      "outputs": [
        {
          "output_type": "stream",
          "name": "stdout",
          "text": [
            "Evento que cumple con lo solicitado:  {('A', 'A', 'A')}\n",
            "La probabilidad de ocurrencia del evento A es:  1/8\n"
          ]
        }
      ]
    },
    {
      "cell_type": "markdown",
      "source": [
        "---"
      ],
      "metadata": {
        "id": "BRIF36AEHTvG"
      }
    },
    {
      "cell_type": "markdown",
      "source": [
        "### S: todos los resultados son soles."
      ],
      "metadata": {
        "id": "Os7ECdvLHYsd"
      }
    },
    {
      "cell_type": "code",
      "source": [
        "# S: todos los resultados son soles\n",
        "# Se crea el evento S\n",
        "S_1 = {resultado for resultado in espacio_muestral if resultado[0]==\"S\" }\n",
        "S_2 = {resultado for resultado in espacio_muestral if resultado[1]==\"S\" }\n",
        "S_3 = {resultado for resultado in espacio_muestral if resultado[2]==\"S\" }\n",
        "\n",
        "# Se crea la interseccion de conjuntos\n",
        "S = S_1.intersection(S_2.intersection(S_3))\n",
        "print('Evento que cumple con lo solicitado: ', S)\n",
        "\n",
        "# Se calcula la probabilidad del evento\n",
        "P_S = len(S)/len(espacio_muestral)\n",
        "#print('La probabilidad de ocurrencia del evento A es: ',P_S)\n",
        "print('La probabilidad de ocurrencia del evento A es: ',p(S,espacio_muestral))"
      ],
      "metadata": {
        "colab": {
          "base_uri": "https://localhost:8080/"
        },
        "id": "zxqAczdYEeUj",
        "outputId": "18e5c12e-31d6-491d-9e8c-a8aad223741e"
      },
      "execution_count": null,
      "outputs": [
        {
          "output_type": "stream",
          "name": "stdout",
          "text": [
            "Evento que cumple con lo solicitado:  {('S', 'S', 'S')}\n",
            "La probabilidad de ocurrencia del evento A es:  1/8\n"
          ]
        }
      ]
    },
    {
      "cell_type": "markdown",
      "source": [
        "---"
      ],
      "metadata": {
        "id": "YaB8UFKXHXNs"
      }
    },
    {
      "cell_type": "markdown",
      "source": [
        "### E: por lo menos un resultado es sol"
      ],
      "metadata": {
        "id": "Fx50BrBHMEMv"
      }
    },
    {
      "cell_type": "code",
      "source": [
        "# Espacio muestral\n",
        "print(\"El espacio muestral es: \",espacio_muestral_E)\n",
        "print(\"Cardinalidad del espacio muestra: \", len(espacio_muestral_E))"
      ],
      "metadata": {
        "colab": {
          "base_uri": "https://localhost:8080/"
        },
        "id": "73PxsnGZK7ke",
        "outputId": "5382d864-aded-4ba7-f48b-fc852f9ad9fc"
      },
      "execution_count": null,
      "outputs": [
        {
          "output_type": "stream",
          "name": "stdout",
          "text": [
            "El espacio muestral es:  ['AAA', 'AAS', 'SSA', 'ASA', 'ASS', 'SSS', 'SAA', 'SAS']\n",
            "Cardinalidad del espacio muestra:  8\n"
          ]
        }
      ]
    },
    {
      "cell_type": "code",
      "source": [
        "# E: por lo menos un resultado es sol\n",
        "\n",
        "# Se crea el evento E\n",
        "E = list()\n",
        "for resultado in espacio_muestral_E:\n",
        "  if 'S' in resultado:\n",
        "    E.append(resultado)\n",
        "\n",
        "print(\"Eventos que cumplen con lo solicitado: \",E)\n",
        "print(\"Cardinalidad : \",len(E))\n",
        "\n",
        "# Se calcula la probabilidad del evento\n",
        "P_E = len(E)/len(espacio_muestral)\n",
        "#print('La probabilidad de ocurrencia del evento E es: ',P_E)\n",
        "print('La probabilidad de ocurrencia del evento A es: ',p(E,espacio_muestral))\n",
        "\n"
      ],
      "metadata": {
        "colab": {
          "base_uri": "https://localhost:8080/"
        },
        "id": "9q_1HGxhEo4B",
        "outputId": "2300895a-e25a-45ff-cac4-d00eac6e7e34"
      },
      "execution_count": null,
      "outputs": [
        {
          "output_type": "stream",
          "name": "stdout",
          "text": [
            "Eventos que cumplen con lo solicitado:  ['AAS', 'SSA', 'ASA', 'ASS', 'SSS', 'SAA', 'SAS']\n",
            "Cardinalidad :  7\n",
            "La probabilidad de ocurrencia del evento A es:  7/8\n"
          ]
        }
      ]
    }
  ]
}