{
  "nbformat": 4,
  "nbformat_minor": 0,
  "metadata": {
    "colab": {
      "provenance": []
    },
    "kernelspec": {
      "name": "python3",
      "display_name": "Python 3"
    },
    "language_info": {
      "name": "python"
    }
  },
  "cells": [
    {
      "cell_type": "code",
      "source": [
        "import numpy as np\n"
      ],
      "metadata": {
        "id": "9QpZqWXGdRdl"
      },
      "execution_count": 1,
      "outputs": []
    },
    {
      "cell_type": "markdown",
      "source": [
        "## Ejemplo de la v.a. uniforme\n",
        "\n",
        "Sea el experimento aleatorio de lanzar dos dados justos:\n",
        "* $\\Omega = \\{1,2,3,4,5,6\\}\\times \\{1,2,3,4,5,6\\} $\n",
        "* $\\mathcal{F} = P(\\Omega)$\n",
        "* Para $w=(i,j)$ donde $i,j\\in\\{1,...,6\\}$ talque\n",
        "   $$\\mathbb{P}( \\{ \\omega \\} )=\\frac{1}{36}$$\n",
        "\n",
        "Vamos a definir a la siguiente variable aleatoria:\n",
        "     $$S:\\Omega \\to R_{S}$$\n",
        "\n",
        "donde $R_{S}=\\{2,3,4,5,6,7,8,9,10,11,12\\}$    \n",
        "\n",
        "Para que entendamos la ley de una v.a., basta con entender los siguientes datos\n",
        "\n",
        "$$\\{(k,\\mathbb{P}(S=k))\\}_{k\\in R_{S}}$$\n",
        "\n",
        "Vamos a entender a $S$ como eventos.\n",
        "\n",
        "Sea $S_{n}$ el evento la suma de las caras es $n$.\n",
        "\n",
        "$$S_{n} = \\{(i,j)\\in\\Omega \\mid i+j =n \\} $$\n",
        "\n",
        "### EJERCICIOS\n",
        "  Calcular la ley de las siguientes variables aleatorias:\n",
        "1. **La diferencia de las caras es mayor a 1**\n",
        "\n",
        "Definimos la variable aleatoria $D$ como la diferencia entre las caras de los dos dados:\n",
        "\n",
        "$$D=|X_1 - X_2|$$\n",
        "\n",
        "Queremos encontrar la probabilidad de que esta diferencia sea mayor a 1.\n",
        "\n",
        "Para cada $k$ en el conjunto $\\{2,3,4,5,6,7,8,9,10,11,12\\}$, definimos el evento $E_k$\n",
        "\n",
        "$$E_{k} = \\{(i,j)\\in\\Omega \\mid |i+j| >1 \\} $$\n",
        "\n",
        "Para hacer esto, es útil observar los pares $(i,j)$ que no cumplen esta condición, es decir, aquellos que tienen una diferencia de 0 o 1.\n",
        "\n",
        "**Diferencia de 0:**\n",
        "Esto sucede cuando $i=j$. Hay 6 posibles pares $(1,1), (2,2,), (3,3), (4,4), (5,5), (6,6)$\n",
        "\n",
        "**Diferencia de 1:**\n",
        "Esto sucede cuando $|i+j|=1$ Los pares son: $(2,1), (3,2), (4,3), (5,4), (6,5), (1,2), (2,3), (3,4), (,4,5), (5,6)$\n",
        "\n",
        "Obteniendo estos dos casos los que tenemos es que la $$P(D>1)= \\frac{6}{36}+ \\frac{10}{36} = \\frac{16}{36}$$\n",
        "\n",
        "Por lo tanto para obtener la probabilidad de que\n",
        "$$P(D>1) = 1- P(D>1)$$\n",
        "\n",
        "$$P(D>1) = 1- \\frac{16}{36}=\\frac{20}{36}$$\n",
        "\n",
        "\n",
        "2. **La suma de las caras sea par**\n",
        "\n",
        "Definimos la variable aleatoria $S$ como la suma de las caras de los dados:\n",
        "\n",
        "$$S=X_1+X_2$$\n",
        "\n",
        "Los números pares en el rango de suma son: $2,4,6,8,10,12$\n",
        "\n",
        "Vamos a contar los pares $(i,j)$ que tienen una suma par para cada caso:\n",
        "\n",
        "**Suma = 2** -> $(1,1)$\n",
        "\n",
        "**Suma = 4** -> $(1,3), (3,1), (2,2)$\n",
        "\n",
        "**Suma = 6** -> $(1,5), (2,4), (3,3), (4,2), (5,1)$\n",
        "\n",
        "**Suma = 8** -> $(2,6), (4,4), (6,2), (3,5), (5,3)$\n",
        "\n",
        "**Suma = 10** -> $(4,6), (5,5), (6,4)$\n",
        "\n",
        "**Suma = 12** -> $(6,6)$\n",
        "\n",
        "\n",
        "Ya que se tienen todos los pares de las sumas\n",
        "\n",
        "$$P(S) = P(S=2) + P(S=4) + P(S=6) + P(S=8) + P(S=10) + P(S=12)$$\n",
        "\n",
        "$$P(S)=\\frac{1}{36}+\\frac{3}{36}+\\frac{5}{36}+\\frac{5}{36}+\\frac{3}{36}+ \\frac{1}{36}= \\frac{18}{36}$$\n",
        "\n",
        "\n",
        "3.  **Verifica en cada caso, que**\n",
        "   $$\\sum_{k\\in R_{X}}\\mathbb{P}(X=k) = 1$$\n",
        "\n",
        "\n",
        "Para verificar que la suma de las probabilidades de todos los posibles valores de una variable aleatoria  $X$ sea 1, primero debes entender y calcular la ley de la variable aleatoria en cuestión. En el contexto de lanzar dos dados, tenemos dos variables aleatorias a verificar:\n",
        "\n",
        "La diferencia entre las caras $D=|X_1 - X_2|$\n",
        "\n",
        "La suma de las caras $$S=X_1+X_2$$\n",
        "\n",
        "Vamos a verificar que la suma de las probabilidades de todos los posibles valores de $D$ y $S$ sea 1"
      ],
      "metadata": {
        "id": "bmcZRcdR4fju"
      }
    },
    {
      "cell_type": "markdown",
      "source": [
        "**Para la diferencia $D = |X_1 - X_2|$**"
      ],
      "metadata": {
        "id": "pg0lChofq85Q"
      }
    },
    {
      "cell_type": "code",
      "source": [
        "# Definimos los dados\n",
        "dados = np.arange(1, 7)\n",
        "dados"
      ],
      "metadata": {
        "colab": {
          "base_uri": "https://localhost:8080/"
        },
        "id": "3K3Jj6-BptT_",
        "outputId": "e09e7f7e-fdfc-4d2f-c10e-47271074c5a4"
      },
      "execution_count": 11,
      "outputs": [
        {
          "output_type": "execute_result",
          "data": {
            "text/plain": [
              "array([1, 2, 3, 4, 5, 6])"
            ]
          },
          "metadata": {},
          "execution_count": 11
        }
      ]
    },
    {
      "cell_type": "code",
      "source": [
        "# Generamos todas las combinaciones posibles de los dados\n",
        "combinaciones = [(i, j) for i in dados for j in dados]\n",
        "combinaciones"
      ],
      "metadata": {
        "colab": {
          "base_uri": "https://localhost:8080/"
        },
        "id": "0eKY7fREqouP",
        "outputId": "3789f9b8-a30c-4ed9-bacd-0b7304133b43"
      },
      "execution_count": 12,
      "outputs": [
        {
          "output_type": "execute_result",
          "data": {
            "text/plain": [
              "[(1, 1),\n",
              " (1, 2),\n",
              " (1, 3),\n",
              " (1, 4),\n",
              " (1, 5),\n",
              " (1, 6),\n",
              " (2, 1),\n",
              " (2, 2),\n",
              " (2, 3),\n",
              " (2, 4),\n",
              " (2, 5),\n",
              " (2, 6),\n",
              " (3, 1),\n",
              " (3, 2),\n",
              " (3, 3),\n",
              " (3, 4),\n",
              " (3, 5),\n",
              " (3, 6),\n",
              " (4, 1),\n",
              " (4, 2),\n",
              " (4, 3),\n",
              " (4, 4),\n",
              " (4, 5),\n",
              " (4, 6),\n",
              " (5, 1),\n",
              " (5, 2),\n",
              " (5, 3),\n",
              " (5, 4),\n",
              " (5, 5),\n",
              " (5, 6),\n",
              " (6, 1),\n",
              " (6, 2),\n",
              " (6, 3),\n",
              " (6, 4),\n",
              " (6, 5),\n",
              " (6, 6)]"
            ]
          },
          "metadata": {},
          "execution_count": 12
        }
      ]
    },
    {
      "cell_type": "code",
      "source": [
        "# Total de combinaciones\n",
        "total_combinaciones = len(combinaciones)\n",
        "total_combinaciones"
      ],
      "metadata": {
        "colab": {
          "base_uri": "https://localhost:8080/"
        },
        "id": "XVQUDykcq_5n",
        "outputId": "aa527282-355c-4b12-88f7-2fb77d682d7c"
      },
      "execution_count": 14,
      "outputs": [
        {
          "output_type": "execute_result",
          "data": {
            "text/plain": [
              "36"
            ]
          },
          "metadata": {},
          "execution_count": 14
        }
      ]
    },
    {
      "cell_type": "code",
      "source": [
        "# Inicializamos el diccionario para las diferencias\n",
        "dS = {k: set() for k in range(6)}\n",
        "dS"
      ],
      "metadata": {
        "colab": {
          "base_uri": "https://localhost:8080/"
        },
        "id": "PJnGbCskrHzv",
        "outputId": "de56c096-21f2-4090-c9a8-3d1bd2d98dab"
      },
      "execution_count": 15,
      "outputs": [
        {
          "output_type": "execute_result",
          "data": {
            "text/plain": [
              "{0: set(), 1: set(), 2: set(), 3: set(), 4: set(), 5: set()}"
            ]
          },
          "metadata": {},
          "execution_count": 15
        }
      ]
    },
    {
      "cell_type": "code",
      "source": [
        "# Llena el diccionario dS con las combinaciones que dan cada diferencia\n",
        "for i, j in combinaciones:\n",
        "    dS[abs(i - j)].add((i, j))"
      ],
      "metadata": {
        "id": "tfMdM99QrOYP"
      },
      "execution_count": 19,
      "outputs": []
    },
    {
      "cell_type": "code",
      "source": [
        "# Calculamos la ley de la variable aleatoria D\n",
        "leyD = {k: len(v) / total_combinaciones for k, v in dS.items()}\n",
        "leyD"
      ],
      "metadata": {
        "colab": {
          "base_uri": "https://localhost:8080/"
        },
        "id": "itmcPOyfrXYP",
        "outputId": "dd4bcd12-9042-4009-aecb-7d1931390cb2"
      },
      "execution_count": 20,
      "outputs": [
        {
          "output_type": "execute_result",
          "data": {
            "text/plain": [
              "{0: 0.16666666666666666,\n",
              " 1: 0.2777777777777778,\n",
              " 2: 0.2222222222222222,\n",
              " 3: 0.16666666666666666,\n",
              " 4: 0.1111111111111111,\n",
              " 5: 0.05555555555555555}"
            ]
          },
          "metadata": {},
          "execution_count": 20
        }
      ]
    },
    {
      "cell_type": "code",
      "source": [
        "# Imprimimos los resultados\n",
        "print(\"Ley de la diferencia D = |X1 - X2|:\")\n",
        "for k, prob in sorted(leyD.items()):\n",
        "    print(f'P(D={k}) = {prob:.2f}')"
      ],
      "metadata": {
        "colab": {
          "base_uri": "https://localhost:8080/"
        },
        "id": "L-ffHP_Mrfpw",
        "outputId": "a0d57784-6e8d-4fe7-9a43-cbed33544c40"
      },
      "execution_count": 21,
      "outputs": [
        {
          "output_type": "stream",
          "name": "stdout",
          "text": [
            "Ley de la diferencia D = |X1 - X2|:\n",
            "P(D=0) = 0.17\n",
            "P(D=1) = 0.28\n",
            "P(D=2) = 0.22\n",
            "P(D=3) = 0.17\n",
            "P(D=4) = 0.11\n",
            "P(D=5) = 0.06\n"
          ]
        }
      ]
    },
    {
      "cell_type": "code",
      "source": [
        "# Verificar que la suma de las probabilidades sea 1\n",
        "suma_probabilidades_D = sum(leyD.values())\n",
        "print(f'Suma de las probabilidades de la diferencia: {suma_probabilidades_D:.2f}')"
      ],
      "metadata": {
        "colab": {
          "base_uri": "https://localhost:8080/"
        },
        "id": "ztuCL7c0r2zw",
        "outputId": "c0527841-c96d-4c80-e6ce-1c208de82907"
      },
      "execution_count": 22,
      "outputs": [
        {
          "output_type": "stream",
          "name": "stdout",
          "text": [
            "Suma de las probabilidades de la diferencia: 1.00\n"
          ]
        }
      ]
    },
    {
      "cell_type": "markdown",
      "source": [
        "**Para la suma $S=X_1 + X_2$**"
      ],
      "metadata": {
        "id": "f_datwymr6cY"
      }
    },
    {
      "cell_type": "code",
      "source": [
        "# Inicializamos el diccionario para las sumas\n",
        "dS = {k: set() for k in range(2, 13)}  # Sumas posibles: 2 a 12\n",
        "dS"
      ],
      "metadata": {
        "colab": {
          "base_uri": "https://localhost:8080/"
        },
        "id": "BFysVF1LsA3Y",
        "outputId": "7f50b596-2803-4a1b-bf0a-37cccfd83bad"
      },
      "execution_count": 23,
      "outputs": [
        {
          "output_type": "execute_result",
          "data": {
            "text/plain": [
              "{2: set(),\n",
              " 3: set(),\n",
              " 4: set(),\n",
              " 5: set(),\n",
              " 6: set(),\n",
              " 7: set(),\n",
              " 8: set(),\n",
              " 9: set(),\n",
              " 10: set(),\n",
              " 11: set(),\n",
              " 12: set()}"
            ]
          },
          "metadata": {},
          "execution_count": 23
        }
      ]
    },
    {
      "cell_type": "code",
      "source": [
        "# Llena el diccionario dS con las combinaciones que dan cada suma\n",
        "for i, j in combinaciones:\n",
        "    dS[i + j].add((i, j))\n"
      ],
      "metadata": {
        "id": "DdBw3bL0sTMw"
      },
      "execution_count": 24,
      "outputs": []
    },
    {
      "cell_type": "code",
      "source": [
        "# Calculamos la ley de la variable aleatoria S\n",
        "leyS = {k: len(v) / total_combinaciones for k, v in dS.items()}\n",
        "leyS"
      ],
      "metadata": {
        "colab": {
          "base_uri": "https://localhost:8080/"
        },
        "id": "WApGz2TisU63",
        "outputId": "cccd2af6-e1f6-4c39-c792-4ecd7d7435b5"
      },
      "execution_count": 25,
      "outputs": [
        {
          "output_type": "execute_result",
          "data": {
            "text/plain": [
              "{2: 0.027777777777777776,\n",
              " 3: 0.05555555555555555,\n",
              " 4: 0.08333333333333333,\n",
              " 5: 0.1111111111111111,\n",
              " 6: 0.1388888888888889,\n",
              " 7: 0.16666666666666666,\n",
              " 8: 0.1388888888888889,\n",
              " 9: 0.1111111111111111,\n",
              " 10: 0.08333333333333333,\n",
              " 11: 0.05555555555555555,\n",
              " 12: 0.027777777777777776}"
            ]
          },
          "metadata": {},
          "execution_count": 25
        }
      ]
    },
    {
      "cell_type": "code",
      "source": [
        "# Imprimimos los resultados\n",
        "print(\"Ley de la suma S = X1 + X2:\")\n",
        "for k, prob in sorted(leyS.items()):\n",
        "    print(f'P(S={k}) = {prob:.2f}')"
      ],
      "metadata": {
        "colab": {
          "base_uri": "https://localhost:8080/"
        },
        "id": "s92-AClCsacw",
        "outputId": "bef6899e-6473-489f-d341-24e7b1f67f00"
      },
      "execution_count": 26,
      "outputs": [
        {
          "output_type": "stream",
          "name": "stdout",
          "text": [
            "Ley de la suma S = X1 + X2:\n",
            "P(S=2) = 0.03\n",
            "P(S=3) = 0.06\n",
            "P(S=4) = 0.08\n",
            "P(S=5) = 0.11\n",
            "P(S=6) = 0.14\n",
            "P(S=7) = 0.17\n",
            "P(S=8) = 0.14\n",
            "P(S=9) = 0.11\n",
            "P(S=10) = 0.08\n",
            "P(S=11) = 0.06\n",
            "P(S=12) = 0.03\n"
          ]
        }
      ]
    },
    {
      "cell_type": "code",
      "source": [
        "# Verificar que la suma de las probabilidades sea 1\n",
        "suma_probabilidades_S = sum(leyS.values())\n",
        "print(f'Suma de las probabilidades de la suma: {suma_probabilidades_S:.2f}')"
      ],
      "metadata": {
        "colab": {
          "base_uri": "https://localhost:8080/"
        },
        "id": "a2KE0GX2sdLA",
        "outputId": "b212b8b6-3cab-406d-b8f9-47c083b1f95d"
      },
      "execution_count": 27,
      "outputs": [
        {
          "output_type": "stream",
          "name": "stdout",
          "text": [
            "Suma de las probabilidades de la suma: 1.00\n"
          ]
        }
      ]
    },
    {
      "cell_type": "markdown",
      "source": [
        "4. **Gráfica y calcula la función de distribución de la v.a. S**\n",
        "\n",
        "Para calcular la Función de Distribución, primeramente se necesita la Función de Densidad.\n",
        "\n",
        "**Función de Densidad**\n",
        "$$P(S=k)=\\frac{Núm. combinaciones, tal que (i+j=k)}{Núm. total de combinaciones}$$\n",
        "\n",
        "**Función de Distribución (acumulada)**\n",
        "$$F_S (k) = \\sum_{j=2}^{k}P(S=j)$$\n",
        "\n",
        "Por lo tanto para la Funcion de Distribucion, tenemos que:"
      ],
      "metadata": {
        "id": "Q8GkLEVv7cOK"
      }
    },
    {
      "cell_type": "code",
      "source": [
        "# Calculamos la ley de la variable aleatoria S\n",
        "leyS = {k: len(v) / total_combinaciones for k, v in dS.items()}\n",
        "leyS"
      ],
      "metadata": {
        "colab": {
          "base_uri": "https://localhost:8080/"
        },
        "id": "HZfMZP7L-0ls",
        "outputId": "b75f8fd2-b01c-4808-fe26-98f9c6aca496"
      },
      "execution_count": 28,
      "outputs": [
        {
          "output_type": "execute_result",
          "data": {
            "text/plain": [
              "{2: 0.027777777777777776,\n",
              " 3: 0.05555555555555555,\n",
              " 4: 0.08333333333333333,\n",
              " 5: 0.1111111111111111,\n",
              " 6: 0.1388888888888889,\n",
              " 7: 0.16666666666666666,\n",
              " 8: 0.1388888888888889,\n",
              " 9: 0.1111111111111111,\n",
              " 10: 0.08333333333333333,\n",
              " 11: 0.05555555555555555,\n",
              " 12: 0.027777777777777776}"
            ]
          },
          "metadata": {},
          "execution_count": 28
        }
      ]
    },
    {
      "cell_type": "code",
      "source": [
        "# Calculamos la función de distribución acumulada\n",
        "valores_S = sorted(leyS.keys())\n",
        "cdf_S = []\n",
        "suma_acumulada = 0\n",
        "for valor in valores_S:\n",
        "    suma_acumulada += leyS[valor]\n",
        "    cdf_S.append(suma_acumulada)"
      ],
      "metadata": {
        "id": "7pJsM0vD-4gL"
      },
      "execution_count": 29,
      "outputs": []
    },
    {
      "cell_type": "code",
      "source": [
        "import matplotlib.pyplot as plt\n",
        "# Graficar la distribucion acumulada\n",
        "plt.figure(figsize=(10, 6))\n",
        "plt.step(valores_S, cdf_S, where='post', label='F.Dist de S', color='blue', linewidth=2)\n",
        "plt.xlabel('Suma de las caras (S)')\n",
        "plt.ylabel('Función de Distribución Acumulada (CDF)')\n",
        "plt.title('Función de Distribución Acumulada (CDF) de la Suma de dos dados')\n",
        "plt.grid(True)\n",
        "plt.legend()\n",
        "plt.show()"
      ],
      "metadata": {
        "colab": {
          "base_uri": "https://localhost:8080/",
          "height": 564
        },
        "id": "adNXAFYf_Rq7",
        "outputId": "adda95de-1a86-448d-af05-bc4525a20c96"
      },
      "execution_count": 32,
      "outputs": [
        {
          "output_type": "display_data",
          "data": {
            "text/plain": [
              "<Figure size 1000x600 with 1 Axes>"
            ],
            "image/png": "[encoded data removed]"
          },
          "metadata": {}
        }
      ]
    }
  ]
}